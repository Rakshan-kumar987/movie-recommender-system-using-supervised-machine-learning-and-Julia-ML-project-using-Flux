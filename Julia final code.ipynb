{
 "cells": [
  {
   "cell_type": "code",
   "execution_count": 1,
   "metadata": {},
   "outputs": [
    {
     "name": "stderr",
     "output_type": "stream",
     "text": [
      "\u001b[32m\u001b[1m   Updating\u001b[22m\u001b[39m registry at `C:\\Users\\sai rakshan\\.julia\\registries\\General`\n",
      "\u001b[32m\u001b[1m  Resolving\u001b[22m\u001b[39m package versions...\n",
      "\u001b[32m\u001b[1mNo Changes\u001b[22m\u001b[39m to `C:\\Users\\sai rakshan\\.julia\\environments\\v1.5\\Project.toml`\n",
      "\u001b[32m\u001b[1mNo Changes\u001b[22m\u001b[39m to `C:\\Users\\sai rakshan\\.julia\\environments\\v1.5\\Manifest.toml`\n"
     ]
    }
   ],
   "source": [
    "using Pkg; Pkg.add(\"Recommendation\")"
   ]
  },
  {
   "cell_type": "code",
   "execution_count": 2,
   "metadata": {},
   "outputs": [],
   "source": [
    "using Recommendation"
   ]
  },
  {
   "cell_type": "code",
   "execution_count": 3,
   "metadata": {},
   "outputs": [
    {
     "data": {
      "text/html": [
       "<table class=\"data-frame\"><thead><tr><th></th><th>budget</th><th>genres</th></tr><tr><th></th><th>Int64</th><th>String</th></tr></thead><tbody><p>4,803 rows × 20 columns (omitted printing of 18 columns)</p><tr><th>1</th><td>237000000</td><td>[{\"id\": 28, \"name\": \"Action\"}, {\"id\": 12, \"name\": \"Adventure\"}, {\"id\": 14, \"name\": \"Fantasy\"}, {\"id\": 878, \"name\": \"Science Fiction\"}]</td></tr><tr><th>2</th><td>300000000</td><td>[{\"id\": 12, \"name\": \"Adventure\"}, {\"id\": 14, \"name\": \"Fantasy\"}, {\"id\": 28, \"name\": \"Action\"}]</td></tr><tr><th>3</th><td>245000000</td><td>[{\"id\": 28, \"name\": \"Action\"}, {\"id\": 12, \"name\": \"Adventure\"}, {\"id\": 80, \"name\": \"Crime\"}]</td></tr><tr><th>4</th><td>250000000</td><td>[{\"id\": 28, \"name\": \"Action\"}, {\"id\": 80, \"name\": \"Crime\"}, {\"id\": 18, \"name\": \"Drama\"}, {\"id\": 53, \"name\": \"Thriller\"}]</td></tr><tr><th>5</th><td>260000000</td><td>[{\"id\": 28, \"name\": \"Action\"}, {\"id\": 12, \"name\": \"Adventure\"}, {\"id\": 878, \"name\": \"Science Fiction\"}]</td></tr><tr><th>6</th><td>258000000</td><td>[{\"id\": 14, \"name\": \"Fantasy\"}, {\"id\": 28, \"name\": \"Action\"}, {\"id\": 12, \"name\": \"Adventure\"}]</td></tr><tr><th>7</th><td>260000000</td><td>[{\"id\": 16, \"name\": \"Animation\"}, {\"id\": 10751, \"name\": \"Family\"}]</td></tr><tr><th>8</th><td>280000000</td><td>[{\"id\": 28, \"name\": \"Action\"}, {\"id\": 12, \"name\": \"Adventure\"}, {\"id\": 878, \"name\": \"Science Fiction\"}]</td></tr><tr><th>9</th><td>250000000</td><td>[{\"id\": 12, \"name\": \"Adventure\"}, {\"id\": 14, \"name\": \"Fantasy\"}, {\"id\": 10751, \"name\": \"Family\"}]</td></tr><tr><th>10</th><td>250000000</td><td>[{\"id\": 28, \"name\": \"Action\"}, {\"id\": 12, \"name\": \"Adventure\"}, {\"id\": 14, \"name\": \"Fantasy\"}]</td></tr><tr><th>11</th><td>270000000</td><td>[{\"id\": 12, \"name\": \"Adventure\"}, {\"id\": 14, \"name\": \"Fantasy\"}, {\"id\": 28, \"name\": \"Action\"}, {\"id\": 878, \"name\": \"Science Fiction\"}]</td></tr><tr><th>12</th><td>200000000</td><td>[{\"id\": 12, \"name\": \"Adventure\"}, {\"id\": 28, \"name\": \"Action\"}, {\"id\": 53, \"name\": \"Thriller\"}, {\"id\": 80, \"name\": \"Crime\"}]</td></tr><tr><th>13</th><td>200000000</td><td>[{\"id\": 12, \"name\": \"Adventure\"}, {\"id\": 14, \"name\": \"Fantasy\"}, {\"id\": 28, \"name\": \"Action\"}]</td></tr><tr><th>14</th><td>255000000</td><td>[{\"id\": 28, \"name\": \"Action\"}, {\"id\": 12, \"name\": \"Adventure\"}, {\"id\": 37, \"name\": \"Western\"}]</td></tr><tr><th>15</th><td>225000000</td><td>[{\"id\": 28, \"name\": \"Action\"}, {\"id\": 12, \"name\": \"Adventure\"}, {\"id\": 14, \"name\": \"Fantasy\"}, {\"id\": 878, \"name\": \"Science Fiction\"}]</td></tr><tr><th>16</th><td>225000000</td><td>[{\"id\": 12, \"name\": \"Adventure\"}, {\"id\": 10751, \"name\": \"Family\"}, {\"id\": 14, \"name\": \"Fantasy\"}]</td></tr><tr><th>17</th><td>220000000</td><td>[{\"id\": 878, \"name\": \"Science Fiction\"}, {\"id\": 28, \"name\": \"Action\"}, {\"id\": 12, \"name\": \"Adventure\"}]</td></tr><tr><th>18</th><td>380000000</td><td>[{\"id\": 12, \"name\": \"Adventure\"}, {\"id\": 28, \"name\": \"Action\"}, {\"id\": 14, \"name\": \"Fantasy\"}]</td></tr><tr><th>19</th><td>225000000</td><td>[{\"id\": 28, \"name\": \"Action\"}, {\"id\": 35, \"name\": \"Comedy\"}, {\"id\": 878, \"name\": \"Science Fiction\"}]</td></tr><tr><th>20</th><td>250000000</td><td>[{\"id\": 28, \"name\": \"Action\"}, {\"id\": 12, \"name\": \"Adventure\"}, {\"id\": 14, \"name\": \"Fantasy\"}]</td></tr><tr><th>21</th><td>215000000</td><td>[{\"id\": 28, \"name\": \"Action\"}, {\"id\": 12, \"name\": \"Adventure\"}, {\"id\": 14, \"name\": \"Fantasy\"}]</td></tr><tr><th>22</th><td>200000000</td><td>[{\"id\": 28, \"name\": \"Action\"}, {\"id\": 12, \"name\": \"Adventure\"}]</td></tr><tr><th>23</th><td>250000000</td><td>[{\"id\": 12, \"name\": \"Adventure\"}, {\"id\": 14, \"name\": \"Fantasy\"}]</td></tr><tr><th>24</th><td>180000000</td><td>[{\"id\": 12, \"name\": \"Adventure\"}, {\"id\": 14, \"name\": \"Fantasy\"}]</td></tr><tr><th>25</th><td>207000000</td><td>[{\"id\": 12, \"name\": \"Adventure\"}, {\"id\": 18, \"name\": \"Drama\"}, {\"id\": 28, \"name\": \"Action\"}]</td></tr><tr><th>26</th><td>200000000</td><td>[{\"id\": 18, \"name\": \"Drama\"}, {\"id\": 10749, \"name\": \"Romance\"}, {\"id\": 53, \"name\": \"Thriller\"}]</td></tr><tr><th>27</th><td>250000000</td><td>[{\"id\": 12, \"name\": \"Adventure\"}, {\"id\": 28, \"name\": \"Action\"}, {\"id\": 878, \"name\": \"Science Fiction\"}]</td></tr><tr><th>28</th><td>209000000</td><td>[{\"id\": 53, \"name\": \"Thriller\"}, {\"id\": 28, \"name\": \"Action\"}, {\"id\": 12, \"name\": \"Adventure\"}, {\"id\": 878, \"name\": \"Science Fiction\"}]</td></tr><tr><th>29</th><td>150000000</td><td>[{\"id\": 28, \"name\": \"Action\"}, {\"id\": 12, \"name\": \"Adventure\"}, {\"id\": 878, \"name\": \"Science Fiction\"}, {\"id\": 53, \"name\": \"Thriller\"}]</td></tr><tr><th>30</th><td>200000000</td><td>[{\"id\": 28, \"name\": \"Action\"}, {\"id\": 12, \"name\": \"Adventure\"}, {\"id\": 53, \"name\": \"Thriller\"}]</td></tr><tr><th>&vellip;</th><td>&vellip;</td><td>&vellip;</td></tr></tbody></table>"
      ],
      "text/latex": [
       "\\begin{tabular}{r|ccc}\n",
       "\t& budget & genres & \\\\\n",
       "\t\\hline\n",
       "\t& Int64 & String & \\\\\n",
       "\t\\hline\n",
       "\t1 & 237000000 & [\\{\"id\": 28, \"name\": \"Action\"\\}, \\{\"id\": 12, \"name\": \"Adventure\"\\}, \\{\"id\": 14, \"name\": \"Fantasy\"\\}, \\{\"id\": 878, \"name\": \"Science Fiction\"\\}] & $\\dots$ \\\\\n",
       "\t2 & 300000000 & [\\{\"id\": 12, \"name\": \"Adventure\"\\}, \\{\"id\": 14, \"name\": \"Fantasy\"\\}, \\{\"id\": 28, \"name\": \"Action\"\\}] & $\\dots$ \\\\\n",
       "\t3 & 245000000 & [\\{\"id\": 28, \"name\": \"Action\"\\}, \\{\"id\": 12, \"name\": \"Adventure\"\\}, \\{\"id\": 80, \"name\": \"Crime\"\\}] & $\\dots$ \\\\\n",
       "\t4 & 250000000 & [\\{\"id\": 28, \"name\": \"Action\"\\}, \\{\"id\": 80, \"name\": \"Crime\"\\}, \\{\"id\": 18, \"name\": \"Drama\"\\}, \\{\"id\": 53, \"name\": \"Thriller\"\\}] & $\\dots$ \\\\\n",
       "\t5 & 260000000 & [\\{\"id\": 28, \"name\": \"Action\"\\}, \\{\"id\": 12, \"name\": \"Adventure\"\\}, \\{\"id\": 878, \"name\": \"Science Fiction\"\\}] & $\\dots$ \\\\\n",
       "\t6 & 258000000 & [\\{\"id\": 14, \"name\": \"Fantasy\"\\}, \\{\"id\": 28, \"name\": \"Action\"\\}, \\{\"id\": 12, \"name\": \"Adventure\"\\}] & $\\dots$ \\\\\n",
       "\t7 & 260000000 & [\\{\"id\": 16, \"name\": \"Animation\"\\}, \\{\"id\": 10751, \"name\": \"Family\"\\}] & $\\dots$ \\\\\n",
       "\t8 & 280000000 & [\\{\"id\": 28, \"name\": \"Action\"\\}, \\{\"id\": 12, \"name\": \"Adventure\"\\}, \\{\"id\": 878, \"name\": \"Science Fiction\"\\}] & $\\dots$ \\\\\n",
       "\t9 & 250000000 & [\\{\"id\": 12, \"name\": \"Adventure\"\\}, \\{\"id\": 14, \"name\": \"Fantasy\"\\}, \\{\"id\": 10751, \"name\": \"Family\"\\}] & $\\dots$ \\\\\n",
       "\t10 & 250000000 & [\\{\"id\": 28, \"name\": \"Action\"\\}, \\{\"id\": 12, \"name\": \"Adventure\"\\}, \\{\"id\": 14, \"name\": \"Fantasy\"\\}] & $\\dots$ \\\\\n",
       "\t11 & 270000000 & [\\{\"id\": 12, \"name\": \"Adventure\"\\}, \\{\"id\": 14, \"name\": \"Fantasy\"\\}, \\{\"id\": 28, \"name\": \"Action\"\\}, \\{\"id\": 878, \"name\": \"Science Fiction\"\\}] & $\\dots$ \\\\\n",
       "\t12 & 200000000 & [\\{\"id\": 12, \"name\": \"Adventure\"\\}, \\{\"id\": 28, \"name\": \"Action\"\\}, \\{\"id\": 53, \"name\": \"Thriller\"\\}, \\{\"id\": 80, \"name\": \"Crime\"\\}] & $\\dots$ \\\\\n",
       "\t13 & 200000000 & [\\{\"id\": 12, \"name\": \"Adventure\"\\}, \\{\"id\": 14, \"name\": \"Fantasy\"\\}, \\{\"id\": 28, \"name\": \"Action\"\\}] & $\\dots$ \\\\\n",
       "\t14 & 255000000 & [\\{\"id\": 28, \"name\": \"Action\"\\}, \\{\"id\": 12, \"name\": \"Adventure\"\\}, \\{\"id\": 37, \"name\": \"Western\"\\}] & $\\dots$ \\\\\n",
       "\t15 & 225000000 & [\\{\"id\": 28, \"name\": \"Action\"\\}, \\{\"id\": 12, \"name\": \"Adventure\"\\}, \\{\"id\": 14, \"name\": \"Fantasy\"\\}, \\{\"id\": 878, \"name\": \"Science Fiction\"\\}] & $\\dots$ \\\\\n",
       "\t16 & 225000000 & [\\{\"id\": 12, \"name\": \"Adventure\"\\}, \\{\"id\": 10751, \"name\": \"Family\"\\}, \\{\"id\": 14, \"name\": \"Fantasy\"\\}] & $\\dots$ \\\\\n",
       "\t17 & 220000000 & [\\{\"id\": 878, \"name\": \"Science Fiction\"\\}, \\{\"id\": 28, \"name\": \"Action\"\\}, \\{\"id\": 12, \"name\": \"Adventure\"\\}] & $\\dots$ \\\\\n",
       "\t18 & 380000000 & [\\{\"id\": 12, \"name\": \"Adventure\"\\}, \\{\"id\": 28, \"name\": \"Action\"\\}, \\{\"id\": 14, \"name\": \"Fantasy\"\\}] & $\\dots$ \\\\\n",
       "\t19 & 225000000 & [\\{\"id\": 28, \"name\": \"Action\"\\}, \\{\"id\": 35, \"name\": \"Comedy\"\\}, \\{\"id\": 878, \"name\": \"Science Fiction\"\\}] & $\\dots$ \\\\\n",
       "\t20 & 250000000 & [\\{\"id\": 28, \"name\": \"Action\"\\}, \\{\"id\": 12, \"name\": \"Adventure\"\\}, \\{\"id\": 14, \"name\": \"Fantasy\"\\}] & $\\dots$ \\\\\n",
       "\t21 & 215000000 & [\\{\"id\": 28, \"name\": \"Action\"\\}, \\{\"id\": 12, \"name\": \"Adventure\"\\}, \\{\"id\": 14, \"name\": \"Fantasy\"\\}] & $\\dots$ \\\\\n",
       "\t22 & 200000000 & [\\{\"id\": 28, \"name\": \"Action\"\\}, \\{\"id\": 12, \"name\": \"Adventure\"\\}] & $\\dots$ \\\\\n",
       "\t23 & 250000000 & [\\{\"id\": 12, \"name\": \"Adventure\"\\}, \\{\"id\": 14, \"name\": \"Fantasy\"\\}] & $\\dots$ \\\\\n",
       "\t24 & 180000000 & [\\{\"id\": 12, \"name\": \"Adventure\"\\}, \\{\"id\": 14, \"name\": \"Fantasy\"\\}] & $\\dots$ \\\\\n",
       "\t25 & 207000000 & [\\{\"id\": 12, \"name\": \"Adventure\"\\}, \\{\"id\": 18, \"name\": \"Drama\"\\}, \\{\"id\": 28, \"name\": \"Action\"\\}] & $\\dots$ \\\\\n",
       "\t26 & 200000000 & [\\{\"id\": 18, \"name\": \"Drama\"\\}, \\{\"id\": 10749, \"name\": \"Romance\"\\}, \\{\"id\": 53, \"name\": \"Thriller\"\\}] & $\\dots$ \\\\\n",
       "\t27 & 250000000 & [\\{\"id\": 12, \"name\": \"Adventure\"\\}, \\{\"id\": 28, \"name\": \"Action\"\\}, \\{\"id\": 878, \"name\": \"Science Fiction\"\\}] & $\\dots$ \\\\\n",
       "\t28 & 209000000 & [\\{\"id\": 53, \"name\": \"Thriller\"\\}, \\{\"id\": 28, \"name\": \"Action\"\\}, \\{\"id\": 12, \"name\": \"Adventure\"\\}, \\{\"id\": 878, \"name\": \"Science Fiction\"\\}] & $\\dots$ \\\\\n",
       "\t29 & 150000000 & [\\{\"id\": 28, \"name\": \"Action\"\\}, \\{\"id\": 12, \"name\": \"Adventure\"\\}, \\{\"id\": 878, \"name\": \"Science Fiction\"\\}, \\{\"id\": 53, \"name\": \"Thriller\"\\}] & $\\dots$ \\\\\n",
       "\t30 & 200000000 & [\\{\"id\": 28, \"name\": \"Action\"\\}, \\{\"id\": 12, \"name\": \"Adventure\"\\}, \\{\"id\": 53, \"name\": \"Thriller\"\\}] & $\\dots$ \\\\\n",
       "\t$\\dots$ & $\\dots$ & $\\dots$ &  \\\\\n",
       "\\end{tabular}\n"
      ],
      "text/plain": [
       "4803×20 DataFrame. Omitted printing of 19 columns\n",
       "│ Row  │ budget    │\n",
       "│      │ \u001b[90mInt64\u001b[39m     │\n",
       "├──────┼───────────┤\n",
       "│ 1    │ 237000000 │\n",
       "│ 2    │ 300000000 │\n",
       "│ 3    │ 245000000 │\n",
       "│ 4    │ 250000000 │\n",
       "│ 5    │ 260000000 │\n",
       "│ 6    │ 258000000 │\n",
       "│ 7    │ 260000000 │\n",
       "│ 8    │ 280000000 │\n",
       "│ 9    │ 250000000 │\n",
       "│ 10   │ 250000000 │\n",
       "⋮\n",
       "│ 4793 │ 20000     │\n",
       "│ 4794 │ 0         │\n",
       "│ 4795 │ 0         │\n",
       "│ 4796 │ 0         │\n",
       "│ 4797 │ 7000      │\n",
       "│ 4798 │ 0         │\n",
       "│ 4799 │ 220000    │\n",
       "│ 4800 │ 9000      │\n",
       "│ 4801 │ 0         │\n",
       "│ 4802 │ 0         │\n",
       "│ 4803 │ 0         │"
      ]
     },
     "execution_count": 3,
     "metadata": {},
     "output_type": "execute_result"
    }
   ],
   "source": [
    "using CSV, DataFrames\n",
    "data = CSV.read(\"C:\\\\Users\\\\sai rakshan\\\\Desktop\\\\julia assign\\\\tmdb_5000_movies.csv\", DataFrame)"
   ]
  },
  {
   "cell_type": "code",
   "execution_count": 4,
   "metadata": {},
   "outputs": [],
   "source": [
    "mutable struct Event{Int<:Real}\n",
    "    id::Int\n",
    "    vote_count::Int\n",
    "    vote_average::Float64\n",
    "end"
   ]
  },
  {
   "cell_type": "code",
   "execution_count": 5,
   "metadata": {},
   "outputs": [
    {
     "data": {
      "text/plain": [
       "(Dict{Int64,Int64}(), Dict{Int64,Int64}())"
      ]
     },
     "execution_count": 5,
     "metadata": {},
     "output_type": "execute_result"
    }
   ],
   "source": [
    "user_mappings, votes_mappings = Dict{Int,Int}(), Dict{Int,Int}()"
   ]
  },
  {
   "cell_type": "code",
   "execution_count": 6,
   "metadata": {},
   "outputs": [
    {
     "data": {
      "text/plain": [
       "(0, 0)"
      ]
     },
     "execution_count": 6,
     "metadata": {},
     "output_type": "execute_result"
    }
   ],
   "source": [
    "# Create a data accessor from events\n",
    "n_user, n_item = 0, 0\n",
    "\n",
    "\n",
    "\n",
    "# Initialize a MF-based recommender with the data accessor\n",
    "# The number of latent factors is set to 2\n"
   ]
  },
  {
   "cell_type": "code",
   "execution_count": 7,
   "metadata": {},
   "outputs": [
    {
     "data": {
      "text/plain": [
       "Recommendation.Event[]"
      ]
     },
     "execution_count": 7,
     "metadata": {},
     "output_type": "execute_result"
    }
   ],
   "source": [
    "events = Recommendation.Event[]"
   ]
  },
  {
   "cell_type": "code",
   "execution_count": 8,
   "metadata": {},
   "outputs": [
    {
     "data": {
      "text/plain": [
       "DataAccessor(Recommendation.Event[Recommendation.Event(1, 1, 7.2), Recommendation.Event(2, 2, 6.9), Recommendation.Event(3, 3, 6.3), Recommendation.Event(4, 4, 7.6), Recommendation.Event(5, 5, 6.1), Recommendation.Event(6, 6, 5.9), Recommendation.Event(7, 7, 7.4), Recommendation.Event(8, 8, 7.3), Recommendation.Event(9, 9, 7.4), Recommendation.Event(10, 10, 5.7)  …  Recommendation.Event(4794, 866, 6.0), Recommendation.Event(4795, 1112, 0.0), Recommendation.Event(4796, 446, 6.0), Recommendation.Event(4797, 741, 6.9), Recommendation.Event(4798, 866, 7.5), Recommendation.Event(4799, 595, 6.6), Recommendation.Event(4800, 1387, 5.9), Recommendation.Event(4801, 1246, 7.0), Recommendation.Event(4802, 1215, 5.7), Recommendation.Event(4803, 267, 6.3)], [7.2 NaN … NaN NaN; NaN 6.9 … NaN NaN; … ; NaN NaN … NaN NaN; NaN NaN … NaN NaN], Dict{Int64,Any}(), Dict{Int64,Any}())"
      ]
     },
     "execution_count": 8,
     "metadata": {},
     "output_type": "execute_result"
    }
   ],
   "source": [
    "for row in eachrow(data) \n",
    "    global n_user, n_item\n",
    "    user_id, votings, rating = row[:id], row[:vote_count], row[:vote_average]\n",
    "    haskey(user_mappings, user_id) || (user_mappings[user_id] = (n_user += 1))\n",
    "    haskey(votes_mappings, votings) || (votes_mappings[votings] = (n_item += 1))\n",
    "    push!(events, Recommendation.Event(user_mappings[user_id], votes_mappings[votings], rating)) \n",
    "end\n",
    "data = DataAccessor(events, n_user, n_item)"
   ]
  },
  {
   "cell_type": "code",
   "execution_count": 9,
   "metadata": {},
   "outputs": [
    {
     "data": {
      "text/plain": [
       "MostPopular(DataAccessor(Recommendation.Event[Recommendation.Event(1, 1, 7.2), Recommendation.Event(2, 2, 6.9), Recommendation.Event(3, 3, 6.3), Recommendation.Event(4, 4, 7.6), Recommendation.Event(5, 5, 6.1), Recommendation.Event(6, 6, 5.9), Recommendation.Event(7, 7, 7.4), Recommendation.Event(8, 8, 7.3), Recommendation.Event(9, 9, 7.4), Recommendation.Event(10, 10, 5.7)  …  Recommendation.Event(4794, 866, 6.0), Recommendation.Event(4795, 1112, 0.0), Recommendation.Event(4796, 446, 6.0), Recommendation.Event(4797, 741, 6.9), Recommendation.Event(4798, 866, 7.5), Recommendation.Event(4799, 595, 6.6), Recommendation.Event(4800, 1387, 5.9), Recommendation.Event(4801, 1246, 7.0), Recommendation.Event(4802, 1215, 5.7), Recommendation.Event(4803, 267, 6.3)], [7.2 NaN … NaN NaN; NaN 6.9 … NaN NaN; … ; NaN NaN … NaN NaN; NaN NaN … NaN NaN], Dict{Int64,Any}(), Dict{Int64,Any}()), Union{Nothing, Float64}[nothing, nothing, nothing, nothing, nothing, nothing, nothing, nothing, nothing, nothing  …  nothing, nothing, nothing, nothing, nothing, nothing, nothing, nothing, nothing, nothing])"
      ]
     },
     "execution_count": 9,
     "metadata": {},
     "output_type": "execute_result"
    }
   ],
   "source": [
    "recommender = MostPopular(data)"
   ]
  },
  {
   "cell_type": "code",
   "execution_count": 10,
   "metadata": {},
   "outputs": [],
   "source": [
    "build!(recommender)"
   ]
  },
  {
   "cell_type": "code",
   "execution_count": 11,
   "metadata": {},
   "outputs": [
    {
     "data": {
      "text/plain": [
       "MF(DataAccessor(Recommendation.Event[Recommendation.Event(1, 1, 7.2), Recommendation.Event(2, 2, 6.9), Recommendation.Event(3, 3, 6.3), Recommendation.Event(4, 4, 7.6), Recommendation.Event(5, 5, 6.1), Recommendation.Event(6, 6, 5.9), Recommendation.Event(7, 7, 7.4), Recommendation.Event(8, 8, 7.3), Recommendation.Event(9, 9, 7.4), Recommendation.Event(10, 10, 5.7)  …  Recommendation.Event(4794, 866, 6.0), Recommendation.Event(4795, 1112, 0.0), Recommendation.Event(4796, 446, 6.0), Recommendation.Event(4797, 741, 6.9), Recommendation.Event(4798, 866, 7.5), Recommendation.Event(4799, 595, 6.6), Recommendation.Event(4800, 1387, 5.9), Recommendation.Event(4801, 1246, 7.0), Recommendation.Event(4802, 1215, 5.7), Recommendation.Event(4803, 267, 6.3)], [7.2 NaN … NaN NaN; NaN 6.9 … NaN NaN; … ; NaN NaN … NaN NaN; NaN NaN … NaN NaN], Dict{Int64,Any}(), Dict{Int64,Any}()), 9, Union{Nothing, Float64}[nothing nothing … nothing nothing; nothing nothing … nothing nothing; … ; nothing nothing … nothing nothing; nothing nothing … nothing nothing], Union{Nothing, Float64}[nothing nothing … nothing nothing; nothing nothing … nothing nothing; … ; nothing nothing … nothing nothing; nothing nothing … nothing nothing])"
      ]
     },
     "execution_count": 11,
     "metadata": {},
     "output_type": "execute_result"
    }
   ],
   "source": [
    "Recommendation.MF\n",
    "  MF(data::DataAccessor, 9)"
   ]
  },
  {
   "cell_type": "code",
   "execution_count": 12,
   "metadata": {},
   "outputs": [
    {
     "data": {
      "text/plain": [
       "14481-element Array{Float64,1}:\n",
       " 0.6203726119134353\n",
       " 0.5855909768759714\n",
       " 0.5177519770735619\n",
       " 0.6671731019857055\n",
       " 0.8543805110360512\n",
       " 0.4744006188166402\n",
       " 0.6437390781522336\n",
       " 0.6320433244820947\n",
       " 0.6437390781522336\n",
       " 0.4534285816286666\n",
       " 0.8768412740240479\n",
       " 0.861682598706758\n",
       " 0.5971385188393082\n",
       " ⋮\n",
       " 0.7139825996645446\n",
       " 0.43297685879853526\n",
       " 0.7139825996645446\n",
       " 0.5855909768759714\n",
       " 0.5855909768759714\n",
       " 0.6554517304438328\n",
       " 0.5741000988870251\n",
       " 0.5855909768759714\n",
       " 0.737229389357179\n",
       " 0.5067516393381098\n",
       " 0.6906092822937521\n",
       " 0.737229389357179"
      ]
     },
     "execution_count": 12,
     "metadata": {},
     "output_type": "execute_result"
    }
   ],
   "source": [
    "recommender = MF(data, 9)\n",
    "build!(recommender, learning_rate=15e-4, max_iter=100)"
   ]
  },
  {
   "cell_type": "code",
   "execution_count": 13,
   "metadata": {},
   "outputs": [
    {
     "data": {
      "text/plain": [
       "10-element Array{Pair{Int64,Float64},1}:\n",
       "  866 => 11.877716411746919\n",
       "  446 => 11.635934082318391\n",
       " 1246 => 11.11096791297808\n",
       " 1377 => 11.03004892446408\n",
       " 1478 => 10.871304568765627\n",
       " 1301 => 10.610089890221047\n",
       " 1323 => 10.573556388920599\n",
       "  900 => 10.57269293144745\n",
       " 1215 => 10.441836501320921\n",
       "  473 => 10.401408991159267"
      ]
     },
     "execution_count": 13,
     "metadata": {},
     "output_type": "execute_result"
    }
   ],
   "source": [
    "# for user#25, pick top-80 from all items\n",
    "recommend(recommender, 50, 10, collect(1:n_item))"
   ]
  },
  {
   "cell_type": "code",
   "execution_count": null,
   "metadata": {},
   "outputs": [],
   "source": []
  }
 ],
 "metadata": {
  "kernelspec": {
   "display_name": "Julia 1.5.2",
   "language": "julia",
   "name": "julia-1.5"
  },
  "language_info": {
   "file_extension": ".jl",
   "mimetype": "application/julia",
   "name": "julia",
   "version": "1.5.2"
  }
 },
 "nbformat": 4,
 "nbformat_minor": 4
}
